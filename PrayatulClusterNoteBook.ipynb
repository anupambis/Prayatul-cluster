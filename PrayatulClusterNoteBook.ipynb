{
  "cells": [
    {
      "cell_type": "markdown",
      "id": "7747092d",
      "metadata": {
        "id": "7747092d"
      },
      "source": [
        "### Prayatul Matrix for direct comparison of clustering algorithms                                                          \n",
        "  Source codes demo version 1.0                                                                      \n",
        "                                                                                                  \n",
        "  Developed in Python 3                                                                \n",
        "                                                                                                \n",
        "  "
      ]
    },
    {
      "cell_type": "code",
      "execution_count": 1,
      "id": "9aaa13ff",
      "metadata": {
        "id": "9aaa13ff"
      },
      "outputs": [],
      "source": [
        "import numpy as np"
      ]
    },
    {
      "cell_type": "markdown",
      "id": "e443172a",
      "metadata": {
        "id": "e443172a"
      },
      "source": [
        "### Prayatul Matrix Generation\n",
        "The generatePrayatulMatrixCluster function takes three inputs\n",
        " 1) G : Ground truth labels of all test samples in the dataset\n",
        " 2) P : Predicted labels obtained with primary algorithm\n",
        " 3) Q : Predicted labels obtained with alternative algorithm"
      ]
    },
    {
      "cell_type": "code",
      "source": [
        "def generatePrayatulMatrixCluster( G,P,Q ):\n",
        "    D = np.array([[0,0], [0,0]])\n",
        "    n=len(G)\n",
        "    count=0\n",
        "    for i in range(n):\n",
        "        for j in range(i+1,n): \n",
        "            count+=1\n",
        "            if P[i]==P[j] and Q[i]==Q[j] and G[i]==G[j]:\n",
        "                D[0][0]+=1\n",
        "            elif P[i]==P[j] and Q[i]!=Q[j] and G[i]==G[j]:\n",
        "                D[0][1]+=1\n",
        "            elif P[i]!=P[j] and Q[i]==Q[j] and G[i]==G[j]:\n",
        "                D[1][0]+=1\n",
        "            elif P[i]!=P[j] and Q[i]!=Q[j] and G[i]==G[j]:\n",
        "                D[1][1]+=1  \n",
        "            elif P[i]!=P[j] and Q[i]!=Q[j] and G[i]!=G[j]:\n",
        "                D[0][0]+=1\n",
        "            elif P[i]!=P[j] and Q[i]==Q[j] and G[i]!=G[j]:\n",
        "                D[0][1]+=1\n",
        "            elif P[i]==P[j] and Q[i]!=Q[j] and G[i]!=G[j]:\n",
        "                D[1][0]+=1\n",
        "            elif P[i]==P[j] and Q[i]==Q[j] and G[i]!=G[j]:\n",
        "                D[1][1]+=1       \n",
        "    print('count=', count)\n",
        "    return D"
      ],
      "metadata": {
        "id": "5uSzDiKodVRm"
      },
      "id": "5uSzDiKodVRm",
      "execution_count": 2,
      "outputs": []
    },
    {
      "cell_type": "markdown",
      "id": "7d0b8adb",
      "metadata": {
        "id": "7d0b8adb"
      },
      "source": [
        "### Scores based on Prayatul Matrix\n",
        "The getScore function takes a prayatul matrix as input and return five scores"
      ]
    },
    {
      "cell_type": "code",
      "execution_count": 3,
      "id": "61d7082a",
      "metadata": {
        "id": "61d7082a"
      },
      "outputs": [],
      "source": [
        "def getScores(D):\n",
        "    BR=D[0][0]\n",
        "    RW=D[0][1]\n",
        "    WR=D[1][0]\n",
        "    BW=D[1][1]\n",
        "    k=0.0001  # k is a very small quantity added to the denominator to avoid x/0 situation\n",
        "    if RW==0 and WR==0:\n",
        "        sigmaC=(RW-WR)/(RW+WR+k)\n",
        "    else:\n",
        "        sigmaC=(RW-WR)/(RW+WR)\n",
        "    alpha=(BR+RW-BW)/(BR+RW+WR+BW)    \n",
        "    if BR==0 and RW==0 and WR==0:\n",
        "        xiC=(BR+RW)/(BR+RW+WR+k)\n",
        "        xiE=(BR+RW-WR)/(BR+RW+WR+k)\n",
        "    else:\n",
        "        xiC=(BR+RW)/(BR+RW+WR)\n",
        "        xiE=(BR+RW-WR)/(BR+RW+WR)    \n",
        "    phiE=(BR+RW-WR)/(BR+RW+WR+BW)\n",
        "    return sigmaC, alpha, xiC, xiE, phiE"
      ]
    },
    {
      "cell_type": "code",
      "execution_count": 4,
      "id": "207024d9",
      "metadata": {
        "colab": {
          "base_uri": "https://localhost:8080/"
        },
        "id": "207024d9",
        "outputId": "69d746dc-3f7c-4e9f-bcf3-5a3be43ae182"
      },
      "outputs": [
        {
          "output_type": "stream",
          "name": "stdout",
          "text": [
            "count= 10\n",
            "[[10  0]\n",
            " [ 0  0]]\n",
            "0.0 1.0 1.0 1.0 1.0\n"
          ]
        }
      ],
      "source": [
        "# Example 1\n",
        "G=[1,1,0,0,1]\n",
        "P=[1,1,0,0,1]\n",
        "Q=[0,0,1,1,0]\n",
        "# Q=[1,1,0,0,1]\n",
        "\n",
        "# Example 2\n",
        "# # Ground truth labels for test all samples\n",
        "# G=[1,1,1,0,0,0,1,0,0,1,1,0,1,1,0,1,1,1,0,1]\n",
        "\n",
        "# # Predicted labels for all test samples obtained with primary algorithm, whose performance is to be compared\n",
        "# P=[1,1,1,0,1,0,1,1,0,0,1,0,1,0,0,1,1,1,1,1]\n",
        "\n",
        "# # Predicted labels for all test samples obtained with alternative algorithm with whom the primary algorithm is to be compared\n",
        "# Q=[1,0,1,0,1,1,0,1,0,1,0,1,1,1,0,0,1,0,0,1]\n",
        "\n",
        "\n",
        "D=generatePrayatulMatrixCluster(G,P,Q)\n",
        "# Display Prayatul Matrix D\n",
        "print(D)\n",
        "\n",
        "sigmaC, alpha, xiC, xiE, phiE = getScores(D)\n",
        "# Display Scores obatained based on the Prayatul Matrix prepared for two ML algorithms \n",
        "print(sigmaC, alpha, xiC, xiE, phiE)"
      ]
    }
  ],
  "metadata": {
    "kernelspec": {
      "display_name": "Python 3 (ipykernel)",
      "language": "python",
      "name": "python3"
    },
    "language_info": {
      "codemirror_mode": {
        "name": "ipython",
        "version": 3
      },
      "file_extension": ".py",
      "mimetype": "text/x-python",
      "name": "python",
      "nbconvert_exporter": "python",
      "pygments_lexer": "ipython3",
      "version": "3.10.4"
    },
    "colab": {
      "name": "PrayatulClusterNoteBook.ipynb",
      "provenance": [],
      "collapsed_sections": []
    }
  },
  "nbformat": 4,
  "nbformat_minor": 5
}